{
 "cells": [
  {
   "cell_type": "markdown",
   "id": "bf2db912-6895-41fd-9097-34678fa896e3",
   "metadata": {},
   "source": [
    "# Installing clickhouse_connect Python Module"
   ]
  },
  {
   "cell_type": "code",
   "execution_count": null,
   "id": "7d9ab3b9",
   "metadata": {
    "tags": []
   },
   "outputs": [],
   "source": [
    "pip install clickhouse_connect\n"
   ]
  },
  {
   "cell_type": "markdown",
   "id": "c7d898e1-48a4-492b-84c5-f8ab8edbc82d",
   "metadata": {
    "tags": []
   },
   "source": [
    "# Importing clickhouse_connect Python Module\n"
   ]
  },
  {
   "cell_type": "code",
   "execution_count": 9,
   "id": "a3c3a0cf-c156-4c83-ba57-da2e62f924af",
   "metadata": {
    "tags": []
   },
   "outputs": [],
   "source": [
    "import clickhouse_connect\n"
   ]
  },
  {
   "cell_type": "markdown",
   "id": "907e8898-a507-45ed-9845-08a37081d0c9",
   "metadata": {},
   "source": [
    "# Establishing Connection Between ClickHouse and Local Python"
   ]
  },
  {
   "cell_type": "code",
   "execution_count": null,
   "id": "9793fcdc-0f13-4644-b6d5-017b00c69bdd",
   "metadata": {},
   "outputs": [],
   "source": [
    "client = clickhouse_connect.get_client(host='localhost', port=18123, username='chris', password='chris')"
   ]
  },
  {
   "cell_type": "markdown",
   "id": "8c170a2a-2a56-4dbb-9c00-657dd5e538f5",
   "metadata": {},
   "source": [
    "# Querying ClickHouse table and storing it as a Pandas Data Frame"
   ]
  },
  {
   "cell_type": "code",
   "execution_count": null,
   "id": "e6a8dce6-ab3a-4830-96a0-003f4c57247b",
   "metadata": {},
   "outputs": [],
   "source": [
    "result = client.query_df('SELECT * from mind_ark_test.sales')"
   ]
  },
  {
   "cell_type": "markdown",
   "id": "83eb114d-d64c-4f44-872b-40289850d973",
   "metadata": {},
   "source": [
    "# Retrieving the type of the result set"
   ]
  },
  {
   "cell_type": "code",
   "execution_count": 10,
   "id": "613f4818-23af-4a8f-b437-f76fad6008b7",
   "metadata": {
    "tags": []
   },
   "outputs": [
    {
     "data": {
      "text/plain": [
       "pandas.core.frame.DataFrame"
      ]
     },
     "execution_count": 10,
     "metadata": {},
     "output_type": "execute_result"
    }
   ],
   "source": [
    "type(result)"
   ]
  },
  {
   "cell_type": "markdown",
   "id": "d92ed4a2-1467-485a-9861-ac497eba5acd",
   "metadata": {},
   "source": [
    "# Counting the result set"
   ]
  },
  {
   "cell_type": "code",
   "execution_count": 11,
   "id": "b0a9b1a1-2c4a-46fa-a8a4-fbe841a6c9c7",
   "metadata": {
    "tags": []
   },
   "outputs": [
    {
     "data": {
      "text/plain": [
       "region            5000000\n",
       "country           5000000\n",
       "item_type         5000000\n",
       "sales_channel     5000000\n",
       "order_priority    5000000\n",
       "order_date        5000000\n",
       "order_id          5000000\n",
       "ship_date         5000000\n",
       "units_sold        5000000\n",
       "unit_price        5000000\n",
       "unit_cost         5000000\n",
       "total_revenue     5000000\n",
       "total_cost        5000000\n",
       "total_profit      5000000\n",
       "dtype: int64"
      ]
     },
     "execution_count": 11,
     "metadata": {},
     "output_type": "execute_result"
    }
   ],
   "source": [
    "result.count()"
   ]
  },
  {
   "cell_type": "markdown",
   "id": "5353da12-fb70-4dac-8c3e-7b7c7c9e2553",
   "metadata": {
    "tags": []
   },
   "source": [
    "# Displaying the resultset"
   ]
  },
  {
   "cell_type": "code",
   "execution_count": 7,
   "id": "3a2928dd-1204-43bf-918b-2d6afecaf93b",
   "metadata": {
    "tags": []
   },
   "outputs": [
    {
     "data": {
      "text/html": [
       "<div>\n",
       "<style scoped>\n",
       "    .dataframe tbody tr th:only-of-type {\n",
       "        vertical-align: middle;\n",
       "    }\n",
       "\n",
       "    .dataframe tbody tr th {\n",
       "        vertical-align: top;\n",
       "    }\n",
       "\n",
       "    .dataframe thead th {\n",
       "        text-align: right;\n",
       "    }\n",
       "</style>\n",
       "<table border=\"1\" class=\"dataframe\">\n",
       "  <thead>\n",
       "    <tr style=\"text-align: right;\">\n",
       "      <th></th>\n",
       "      <th>region</th>\n",
       "      <th>country</th>\n",
       "      <th>item_type</th>\n",
       "      <th>sales_channel</th>\n",
       "      <th>order_priority</th>\n",
       "      <th>order_date</th>\n",
       "      <th>order_id</th>\n",
       "      <th>ship_date</th>\n",
       "      <th>units_sold</th>\n",
       "      <th>unit_price</th>\n",
       "      <th>unit_cost</th>\n",
       "      <th>total_revenue</th>\n",
       "      <th>total_cost</th>\n",
       "      <th>total_profit</th>\n",
       "    </tr>\n",
       "  </thead>\n",
       "  <tbody>\n",
       "    <tr>\n",
       "      <th>0</th>\n",
       "      <td>Asia</td>\n",
       "      <td>Brunei</td>\n",
       "      <td>Snacks</td>\n",
       "      <td>Online</td>\n",
       "      <td>L</td>\n",
       "      <td>2013-12-07</td>\n",
       "      <td>553933513</td>\n",
       "      <td>2013-12-09</td>\n",
       "      <td>91</td>\n",
       "      <td>152.58</td>\n",
       "      <td>97.44</td>\n",
       "      <td>13884.78</td>\n",
       "      <td>8867.04</td>\n",
       "      <td>5017.74</td>\n",
       "    </tr>\n",
       "    <tr>\n",
       "      <th>1</th>\n",
       "      <td>Central America and the Caribbean</td>\n",
       "      <td>Saint Vincent and the Grenadines</td>\n",
       "      <td>Cosmetics</td>\n",
       "      <td>Online</td>\n",
       "      <td>L</td>\n",
       "      <td>2017-01-02</td>\n",
       "      <td>553933942</td>\n",
       "      <td>2017-02-19</td>\n",
       "      <td>218</td>\n",
       "      <td>437.20</td>\n",
       "      <td>263.33</td>\n",
       "      <td>95309.60</td>\n",
       "      <td>57405.94</td>\n",
       "      <td>37903.66</td>\n",
       "    </tr>\n",
       "    <tr>\n",
       "      <th>2</th>\n",
       "      <td>Central America and the Caribbean</td>\n",
       "      <td>Saint Vincent and the Grenadines</td>\n",
       "      <td>Cosmetics</td>\n",
       "      <td>Online</td>\n",
       "      <td>L</td>\n",
       "      <td>2017-01-02</td>\n",
       "      <td>553933942</td>\n",
       "      <td>2017-02-19</td>\n",
       "      <td>218</td>\n",
       "      <td>437.20</td>\n",
       "      <td>263.33</td>\n",
       "      <td>95309.60</td>\n",
       "      <td>57405.94</td>\n",
       "      <td>37903.66</td>\n",
       "    </tr>\n",
       "    <tr>\n",
       "      <th>3</th>\n",
       "      <td>Central America and the Caribbean</td>\n",
       "      <td>Saint Vincent and the Grenadines</td>\n",
       "      <td>Cosmetics</td>\n",
       "      <td>Online</td>\n",
       "      <td>L</td>\n",
       "      <td>2017-01-02</td>\n",
       "      <td>553933942</td>\n",
       "      <td>2017-02-19</td>\n",
       "      <td>218</td>\n",
       "      <td>437.20</td>\n",
       "      <td>263.33</td>\n",
       "      <td>95309.60</td>\n",
       "      <td>57405.94</td>\n",
       "      <td>37903.66</td>\n",
       "    </tr>\n",
       "    <tr>\n",
       "      <th>4</th>\n",
       "      <td>Europe</td>\n",
       "      <td>Belarus</td>\n",
       "      <td>Personal Care</td>\n",
       "      <td>Online</td>\n",
       "      <td>M</td>\n",
       "      <td>2020-01-29</td>\n",
       "      <td>553934371</td>\n",
       "      <td>2020-03-13</td>\n",
       "      <td>345</td>\n",
       "      <td>81.73</td>\n",
       "      <td>56.67</td>\n",
       "      <td>28196.85</td>\n",
       "      <td>19551.15</td>\n",
       "      <td>8645.70</td>\n",
       "    </tr>\n",
       "  </tbody>\n",
       "</table>\n",
       "</div>"
      ],
      "text/plain": [
       "                              region                           country  \\\n",
       "0                               Asia                            Brunei   \n",
       "1  Central America and the Caribbean  Saint Vincent and the Grenadines   \n",
       "2  Central America and the Caribbean  Saint Vincent and the Grenadines   \n",
       "3  Central America and the Caribbean  Saint Vincent and the Grenadines   \n",
       "4                             Europe                           Belarus   \n",
       "\n",
       "       item_type sales_channel order_priority order_date   order_id  \\\n",
       "0         Snacks        Online              L 2013-12-07  553933513   \n",
       "1      Cosmetics        Online              L 2017-01-02  553933942   \n",
       "2      Cosmetics        Online              L 2017-01-02  553933942   \n",
       "3      Cosmetics        Online              L 2017-01-02  553933942   \n",
       "4  Personal Care        Online              M 2020-01-29  553934371   \n",
       "\n",
       "   ship_date  units_sold  unit_price  unit_cost  total_revenue  total_cost  \\\n",
       "0 2013-12-09          91      152.58      97.44       13884.78     8867.04   \n",
       "1 2017-02-19         218      437.20     263.33       95309.60    57405.94   \n",
       "2 2017-02-19         218      437.20     263.33       95309.60    57405.94   \n",
       "3 2017-02-19         218      437.20     263.33       95309.60    57405.94   \n",
       "4 2020-03-13         345       81.73      56.67       28196.85    19551.15   \n",
       "\n",
       "   total_profit  \n",
       "0       5017.74  \n",
       "1      37903.66  \n",
       "2      37903.66  \n",
       "3      37903.66  \n",
       "4       8645.70  "
      ]
     },
     "execution_count": 7,
     "metadata": {},
     "output_type": "execute_result"
    }
   ],
   "source": [
    "result.head()"
   ]
  }
 ],
 "metadata": {
  "kernelspec": {
   "display_name": "Python 3 (ipykernel)",
   "language": "python",
   "name": "python3"
  },
  "language_info": {
   "codemirror_mode": {
    "name": "ipython",
    "version": 3
   },
   "file_extension": ".py",
   "mimetype": "text/x-python",
   "name": "python",
   "nbconvert_exporter": "python",
   "pygments_lexer": "ipython3",
   "version": "3.11.5"
  }
 },
 "nbformat": 4,
 "nbformat_minor": 5
}
